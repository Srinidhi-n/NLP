{
 "cells": [
  {
   "cell_type": "code",
   "execution_count": null,
   "metadata": {},
   "outputs": [],
   "source": [
    "C:\\Users\\srini\\OneDrive\\Desktop\\webScraping"
   ]
  },
  {
   "cell_type": "markdown",
   "metadata": {},
   "source": [
    "# Web Scraping Using Selenium\n",
    "## Importing libraries and packages\n"
   ]
  },
  {
   "cell_type": "code",
   "execution_count": 62,
   "metadata": {},
   "outputs": [
    {
     "name": "stdout",
     "output_type": "stream",
     "text": [
      "Requirement already satisfied: selenium in c:\\users\\srini\\anaconda3\\lib\\site-packages (3.141.0)\n",
      "Requirement already satisfied: urllib3 in c:\\users\\srini\\anaconda3\\lib\\site-packages (from selenium) (1.25.8)\n"
     ]
    }
   ],
   "source": [
    "# Installing selenium\n",
    "! pip install selenium\n"
   ]
  },
  {
   "cell_type": "code",
   "execution_count": 63,
   "metadata": {},
   "outputs": [],
   "source": [
    "# Importing libraries\n",
    "from time import sleep, strftime\n",
    "import pandas as pd\n",
    "from selenium import webdriver\n",
    "from selenium.webdriver.common.keys import Keys\n",
    "import re\n",
    "import numpy as np"
   ]
  },
  {
   "cell_type": "code",
   "execution_count": 64,
   "metadata": {},
   "outputs": [],
   "source": [
    "'''\n",
    "Passing path of the chrome webdriver\n",
    "'''\n",
    "chromedriver_path = r'C:\\Users\\srini\\OneDrive\\Desktop\\webScraping\\chromedriver.exe'\n"
   ]
  },
  {
   "cell_type": "code",
   "execution_count": 65,
   "metadata": {},
   "outputs": [],
   "source": [
    "\n",
    "'''\n",
    "steps to reach out to the main page where the table is present \n",
    "'''\n",
    "driver = webdriver.Chrome(executable_path=chromedriver_path)\n",
    "# driver.maximize_window()\n",
    "# sleep(10)\n",
    "# driver.get(\"https://www.iplt20.com\")\n",
    "# sleep(10)\n",
    "# driver.find_elements_by_xpath(\"//div[contains(@class, 'main-nav__drop-down')]\")[2].click()\n",
    "# sleep(2)\n",
    "# driver.find_elements_by_xpath(\"//a[contains(@class, 'main-nav__link') and contains(text(), 'By Season')]\")[0].click()\n",
    "# sleep(5)\n"
   ]
  },
  {
   "cell_type": "code",
   "execution_count": 66,
   "metadata": {},
   "outputs": [],
   "source": [
    "'''\n",
    "Since this IPL website doesn't as for any login id or password, we can extract out data from the URL of the \n",
    "page where table is present.\n",
    "'''\n",
    "season_url = \"https://www.iplt20.com/stats/{}/most-runs\" #leaving season part as blank that we'd fill in the later part \n"
   ]
  },
  {
   "cell_type": "code",
   "execution_count": 55,
   "metadata": {},
   "outputs": [],
   "source": [
    "del df"
   ]
  },
  {
   "cell_type": "code",
   "execution_count": 69,
   "metadata": {},
   "outputs": [],
   "source": [
    "'''\n",
    "defining main function for scraping data. This function will scrape all the texts from the data and store it into df_runs\n",
    "by appending it on an iterative call\n",
    "'''\n",
    "def get_text(webelement):\n",
    "    return webelement.get_attribute(\"innerText\").replace(\"\\n\", \" \")\n",
    "\n",
    "def page_scrape(season):\n",
    "    '''\n",
    "    Functions to scrape a page details for a particular year\n",
    "    '''\n",
    "    table_rows = driver.find_elements_by_xpath(\"//table//tr[contains(@class, 'js-row')]\")\n",
    "    for ele in table_rows :\n",
    "        row_data = list(map(get_text, ele.find_elements_by_tag_name(\"td\")))\n",
    "        if (row_data[0]=='1'):\n",
    "            row_data.extend([ele.get_attribute('data-nationality'), season, ele.get_attribute('class').split()[2]])\n",
    "        else:\n",
    "            row_data.extend([ele.get_attribute('data-nationality'), season, ele.get_attribute('class').split()[1]])\n",
    "        df_runs.loc[len(df_runs)] = row_data\n"
   ]
  },
  {
   "cell_type": "code",
   "execution_count": 70,
   "metadata": {},
   "outputs": [],
   "source": [
    "driver.get(\"https://www.iplt20.com/stats/{}/most-runs\".format('2021'))\n",
    "table_heading = driver.find_element_by_xpath(\"//table//tr[contains(@class, 'top-players__header')]\")\n",
    "globals()['column_values'] = list(table_heading.get_attribute(\"innerText\").split())\n",
    "column_values.extend(['Nationality', 'Season', 'Team'])\n",
    "\n",
    "df_runs = pd.DataFrame(columns = column_values)\n",
    "\n",
    "for season in range(2021, 2007, -1):\n",
    "    driver.get(season_url.format(season))\n",
    "    page_scrape(season)\n"
   ]
  },
  {
   "cell_type": "code",
   "execution_count": 71,
   "metadata": {},
   "outputs": [],
   "source": [
    "df_runs['status']=np.where(df_runs['HS'].str.contains(r'[*]'),'Not Out','Out')"
   ]
  },
  {
   "cell_type": "code",
   "execution_count": 80,
   "metadata": {},
   "outputs": [],
   "source": [
    "\n",
    "'''\n",
    "defining main function for scraping wicket data. This function will scrape all the texts from the wickets page and store it into a dataframe\n",
    "df_wickets by appending it on an iterative call\n",
    "'''\n",
    "season_url= \"https://www.iplt20.com/stats/{}/most-wickets\"\n",
    "\n",
    "\n",
    "def get_text(webelement):\n",
    "    return webelement.get_attribute(\"innerText\").replace(\"\\n\", \" \")\n",
    "\n",
    "def page_scrape(season):\n",
    "    '''\n",
    "    Functions to scrape a page details for a particular year\n",
    "    '''\n",
    "    table_rows = driver.find_elements_by_xpath(\"//table//tr[contains(@class, 'js-row')]\")\n",
    "    for ele in table_rows :\n",
    "        row_data = list(map(get_text, ele.find_elements_by_tag_name(\"td\")))\n",
    "        if (row_data[0]=='1'):\n",
    "            row_data.extend([ele.get_attribute('data-nationality'), season, ele.get_attribute('class').split()[2]])\n",
    "        else:\n",
    "            row_data.extend([ele.get_attribute('data-nationality'), season, ele.get_attribute('class').split()[1]])\n",
    "        df_wickets.loc[len(df_wickets)] = row_data\n",
    "7"
   ]
  },
  {
   "cell_type": "code",
   "execution_count": 81,
   "metadata": {},
   "outputs": [],
   "source": []
  },
  {
   "cell_type": "code",
   "execution_count": 85,
   "metadata": {},
   "outputs": [],
   "source": [
    "df_wickets.to_excel('data.xlsx')"
   ]
  },
  {
   "cell_type": "code",
   "execution_count": 88,
   "metadata": {},
   "outputs": [
    {
     "data": {
      "text/plain": [
       "(221, b'2.0.0 closing connection t5sm11289501pgb.58 - gsmtp')"
      ]
     },
     "execution_count": 88,
     "metadata": {},
     "output_type": "execute_result"
    }
   ],
   "source": [
    "import smtplib\n",
    "from email.mime.multipart import MIMEMultipart\n",
    "from email.mime.text import MIMEText\n",
    "from email.mime.base import MIMEBase\n",
    "from email import encoders\n",
    "\n",
    "fromaddr = 'srinidhi7058@gmail.com'\n",
    "toaddr = ['srinidhi7058@gmail.com']\n",
    "\n",
    "msg = MIMEMultipart()\n",
    "\n",
    "msg['From'] = fromaddr\n",
    "msg['To'] = \", \".join(toaddr)\n",
    "msg['Subject'] = \"Hello\"\n",
    "\n",
    "body = \"Sample Mail\"\n",
    "\n",
    "msg.attach(MIMEText(body, 'plain'))\n",
    "\n",
    "filename = \"Data.xlsx\"\n",
    "attachment = open(r\"C:\\Users\\srini\\data.xlsx\", \n",
    "\"rb\")\n",
    "\n",
    "part = MIMEBase('application', 'octet-stream')\n",
    "part.set_payload((attachment).read())\n",
    "encoders.encode_base64(part)\n",
    "part.add_header('Content-Disposition', \"attachment; filename= %s\" % filename)\n",
    "\n",
    "msg.attach(part)\n",
    "\n",
    "server = smtplib.SMTP('smtp.gmail.com', 587)\n",
    "server.starttls()\n",
    "server.login(fromaddr, \"Lifeisgood@2207\") #Type Password\n",
    "text = msg.as_string()\n",
    "server.sendmail(fromaddr, toaddr, text)\n",
    "server.quit()"
   ]
  },
  {
   "cell_type": "code",
   "execution_count": null,
   "metadata": {},
   "outputs": [],
   "source": []
  }
 ],
 "metadata": {
  "kernelspec": {
   "display_name": "Python 3",
   "language": "python",
   "name": "python3"
  },
  "language_info": {
   "codemirror_mode": {
    "name": "ipython",
    "version": 3
   },
   "file_extension": ".py",
   "mimetype": "text/x-python",
   "name": "python",
   "nbconvert_exporter": "python",
   "pygments_lexer": "ipython3",
   "version": "3.7.6"
  }
 },
 "nbformat": 4,
 "nbformat_minor": 4
}
